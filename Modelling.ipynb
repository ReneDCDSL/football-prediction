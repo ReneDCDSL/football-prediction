{
 "cells": [
  {
   "cell_type": "markdown",
   "id": "18f923a8",
   "metadata": {},
   "source": [
    "# Imports"
   ]
  },
  {
   "cell_type": "code",
   "execution_count": 1,
   "id": "9198b89b",
   "metadata": {
    "ExecuteTime": {
     "end_time": "2023-12-02T16:55:31.897436Z",
     "start_time": "2023-12-02T16:55:30.597124Z"
    }
   },
   "outputs": [],
   "source": [
    "import pandas as pd\n",
    "import requests\n",
    "import joblib\n",
    "import pickle\n",
    "\n",
    "# Model\n",
    "from sklearn.model_selection import train_test_split\n",
    "from sklearn.ensemble import RandomForestClassifier\n",
    "from sklearn.preprocessing import OneHotEncoder\n",
    "from sklearn.compose import ColumnTransformer\n",
    "from sklearn.pipeline import Pipeline"
   ]
  },
  {
   "cell_type": "markdown",
   "id": "37417cc0",
   "metadata": {},
   "source": [
    "# Functions"
   ]
  },
  {
   "cell_type": "code",
   "execution_count": 3,
   "id": "d836cd43",
   "metadata": {
    "ExecuteTime": {
     "end_time": "2023-12-02T16:55:35.892607Z",
     "start_time": "2023-12-02T16:55:35.865615Z"
    }
   },
   "outputs": [],
   "source": [
    "def get_football_data():\n",
    "    url = \"https://soccer-football-info.p.rapidapi.com/matches/by/basic/\"\n",
    "    querystring = {\"s\": \"423f669ed2e3e1bf\", \"l\": \"en_US\"}\n",
    "    headers = {\n",
    "        \"X-RapidAPI-Key\": \"45ddb35fddmsh83c2b6071c04098p189a48jsn7f1c9dd36e16\",\n",
    "        \"X-RapidAPI-Host\": \"soccer-football-info.p.rapidapi.com\",\n",
    "    }\n",
    "    response = requests.get(url, headers=headers, params=querystring)\n",
    "    return response.json()\n",
    "\n",
    "def preprocess_data(data):\n",
    "    features = [\"possession\", \"opponent\", \"referee\", \"total_goals\", \"outcome\"]\n",
    "    processed_data = pd.DataFrame(columns=features)\n",
    "    for match in data[\"result\"]:\n",
    "        match_info_teamA = match.get(\"teamA\", {}).get(\"stats\", {})\n",
    "        match_info_teamB = match.get(\"teamB\", {}).get(\"stats\", {})\n",
    "\n",
    "        \n",
    "        # Skips match with missing data\n",
    "        if match_info_teamA.get('possession')==None or (match['referee']==None):\n",
    "            continue\n",
    "            \n",
    "        possession_teamA = int(match_info_teamA.get(\"possession\", 0))\n",
    "        possession_teamB = int(match_info_teamB.get(\"possession\", 0))\n",
    "\n",
    "        possession_teamA = int(possession_teamA)\n",
    "        possession_teamB = int(possession_teamB)\n",
    "\n",
    "        total_goals = int(match[\"teamA\"][\"score\"][\"f\"]) + int(match[\"teamB\"][\"score\"][\"f\"])\n",
    "\n",
    "        outcome = \"win\" if match[\"teamA\"][\"score\"][\"f\"] > match[\"teamB\"][\"score\"][\"f\"] else (\n",
    "            \"draw\" if match[\"teamA\"][\"score\"][\"f\"] == match[\"teamB\"][\"score\"][\"f\"] else \"lose\"\n",
    "        )\n",
    "\n",
    "        opponent_name = match[\"teamB\"][\"name\"]\n",
    "        referee_name = match[\"referee\"][\"name\"]\n",
    "\n",
    "        processed_data = processed_data.append({\n",
    "            \"possession\": possession_teamA,\n",
    "            \"opponent\": opponent_name,\n",
    "            \"referee\": referee_name,\n",
    "            \"total_goals\": total_goals,\n",
    "            \"outcome\": outcome\n",
    "        }, ignore_index=True)\n",
    "\n",
    "    return processed_data\n",
    "\n",
    "def train_model(processed_data):\n",
    "    X = processed_data.drop(\"outcome\", axis=1)\n",
    "    y = processed_data[\"outcome\"]\n",
    "\n",
    "    # Define the categorical features and numerical features\n",
    "    categorical_features = [\"opponent\", \"referee\"]\n",
    "    numerical_features = [\"possession\", \"total_goals\"]\n",
    "\n",
    "    # Create transformers for one-hot encoding of categorical features\n",
    "    categorical_transformer = OneHotEncoder(handle_unknown=\"ignore\")\n",
    "\n",
    "    # Create a preprocessor that applies transformers to different feature sets\n",
    "    preprocessor = ColumnTransformer(\n",
    "        transformers=[\n",
    "            (\"cat\", categorical_transformer, categorical_features),\n",
    "        ],\n",
    "        remainder=\"passthrough\"\n",
    "    )\n",
    "\n",
    "    # Create a pipeline that applies the preprocessor and then fits the model\n",
    "    model = Pipeline([\n",
    "        (\"preprocessor\", preprocessor),\n",
    "        (\"classifier\", RandomForestClassifier())\n",
    "    ])\n",
    "\n",
    "    # Fit the model\n",
    "    model.fit(X, y)\n",
    "\n",
    "    return model"
   ]
  },
  {
   "cell_type": "markdown",
   "id": "f7d552b1",
   "metadata": {},
   "source": [
    "### Data collection"
   ]
  },
  {
   "cell_type": "code",
   "execution_count": 4,
   "id": "054c5f00",
   "metadata": {
    "ExecuteTime": {
     "end_time": "2023-12-02T16:55:38.845501Z",
     "start_time": "2023-12-02T16:55:36.687849Z"
    }
   },
   "outputs": [],
   "source": [
    "data = get_football_data()"
   ]
  },
  {
   "cell_type": "markdown",
   "id": "488c413c",
   "metadata": {},
   "source": [
    "### Data preprocessing"
   ]
  },
  {
   "cell_type": "code",
   "execution_count": 5,
   "id": "73152ec6",
   "metadata": {
    "ExecuteTime": {
     "end_time": "2023-12-02T16:55:39.535262Z",
     "start_time": "2023-12-02T16:55:39.470383Z"
    },
    "scrolled": true
   },
   "outputs": [],
   "source": [
    "import warnings\n",
    "warnings.simplefilter(action='ignore', category=FutureWarning)\n",
    "\n",
    "processed_data = preprocess_data(data)"
   ]
  },
  {
   "cell_type": "code",
   "execution_count": 5,
   "id": "45bb0a53",
   "metadata": {
    "ExecuteTime": {
     "end_time": "2023-12-02T16:55:05.124182Z",
     "start_time": "2023-12-02T16:55:05.081178Z"
    }
   },
   "outputs": [
    {
     "data": {
      "text/html": [
       "<div>\n",
       "<style scoped>\n",
       "    .dataframe tbody tr th:only-of-type {\n",
       "        vertical-align: middle;\n",
       "    }\n",
       "\n",
       "    .dataframe tbody tr th {\n",
       "        vertical-align: top;\n",
       "    }\n",
       "\n",
       "    .dataframe thead th {\n",
       "        text-align: right;\n",
       "    }\n",
       "</style>\n",
       "<table border=\"1\" class=\"dataframe\">\n",
       "  <thead>\n",
       "    <tr style=\"text-align: right;\">\n",
       "      <th></th>\n",
       "      <th>possession</th>\n",
       "      <th>opponent</th>\n",
       "      <th>referee</th>\n",
       "      <th>total_goals</th>\n",
       "      <th>outcome</th>\n",
       "    </tr>\n",
       "  </thead>\n",
       "  <tbody>\n",
       "    <tr>\n",
       "      <th>0</th>\n",
       "      <td>59</td>\n",
       "      <td>Crystal Palace</td>\n",
       "      <td>Andre Marriner</td>\n",
       "      <td>2</td>\n",
       "      <td>win</td>\n",
       "    </tr>\n",
       "    <tr>\n",
       "      <th>1</th>\n",
       "      <td>64</td>\n",
       "      <td>Burnley</td>\n",
       "      <td>Jon Moss</td>\n",
       "      <td>3</td>\n",
       "      <td>win</td>\n",
       "    </tr>\n",
       "    <tr>\n",
       "      <th>2</th>\n",
       "      <td>63</td>\n",
       "      <td>Watford</td>\n",
       "      <td>Andre Marriner</td>\n",
       "      <td>3</td>\n",
       "      <td>lose</td>\n",
       "    </tr>\n",
       "    <tr>\n",
       "      <th>3</th>\n",
       "      <td>49</td>\n",
       "      <td>Hull</td>\n",
       "      <td>Mark Clattenburg</td>\n",
       "      <td>2</td>\n",
       "      <td>win</td>\n",
       "    </tr>\n",
       "    <tr>\n",
       "      <th>4</th>\n",
       "      <td>42</td>\n",
       "      <td>Bayern Munich</td>\n",
       "      <td>Anastasios Sidiropoulos</td>\n",
       "      <td>6</td>\n",
       "      <td>lose</td>\n",
       "    </tr>\n",
       "    <tr>\n",
       "      <th>5</th>\n",
       "      <td>66</td>\n",
       "      <td>Lincoln City</td>\n",
       "      <td>Anthony Taylor</td>\n",
       "      <td>5</td>\n",
       "      <td>win</td>\n",
       "    </tr>\n",
       "    <tr>\n",
       "      <th>6</th>\n",
       "      <td>46</td>\n",
       "      <td>Man City</td>\n",
       "      <td>Andre Marriner</td>\n",
       "      <td>4</td>\n",
       "      <td>draw</td>\n",
       "    </tr>\n",
       "    <tr>\n",
       "      <th>7</th>\n",
       "      <td>60</td>\n",
       "      <td>West Ham</td>\n",
       "      <td>Martin Atkinson</td>\n",
       "      <td>3</td>\n",
       "      <td>win</td>\n",
       "    </tr>\n",
       "    <tr>\n",
       "      <th>8</th>\n",
       "      <td>68</td>\n",
       "      <td>Leicester</td>\n",
       "      <td>Mike Jones</td>\n",
       "      <td>1</td>\n",
       "      <td>win</td>\n",
       "    </tr>\n",
       "    <tr>\n",
       "      <th>9</th>\n",
       "      <td>50</td>\n",
       "      <td>Man Utd</td>\n",
       "      <td>Andre Marriner</td>\n",
       "      <td>2</td>\n",
       "      <td>win</td>\n",
       "    </tr>\n",
       "    <tr>\n",
       "      <th>10</th>\n",
       "      <td>58</td>\n",
       "      <td>Sunderland</td>\n",
       "      <td>Roger East</td>\n",
       "      <td>2</td>\n",
       "      <td>win</td>\n",
       "    </tr>\n",
       "    <tr>\n",
       "      <th>11</th>\n",
       "      <td>52</td>\n",
       "      <td>Everton</td>\n",
       "      <td>Michael Oliver</td>\n",
       "      <td>4</td>\n",
       "      <td>win</td>\n",
       "    </tr>\n",
       "    <tr>\n",
       "      <th>12</th>\n",
       "      <td>64</td>\n",
       "      <td>Leicester</td>\n",
       "      <td>Mike Dean</td>\n",
       "      <td>7</td>\n",
       "      <td>win</td>\n",
       "    </tr>\n",
       "    <tr>\n",
       "      <th>13</th>\n",
       "      <td>55</td>\n",
       "      <td>Bournemouth</td>\n",
       "      <td>Anthony Taylor</td>\n",
       "      <td>3</td>\n",
       "      <td>win</td>\n",
       "    </tr>\n",
       "    <tr>\n",
       "      <th>14</th>\n",
       "      <td>66</td>\n",
       "      <td>Cologne</td>\n",
       "      <td>Xavier Estrada Fernandez</td>\n",
       "      <td>4</td>\n",
       "      <td>win</td>\n",
       "    </tr>\n",
       "    <tr>\n",
       "      <th>15</th>\n",
       "      <td>61</td>\n",
       "      <td>Doncaster</td>\n",
       "      <td>Scott Duncan</td>\n",
       "      <td>1</td>\n",
       "      <td>win</td>\n",
       "    </tr>\n",
       "    <tr>\n",
       "      <th>16</th>\n",
       "      <td>58</td>\n",
       "      <td>West Brom</td>\n",
       "      <td>Bobby Madley</td>\n",
       "      <td>2</td>\n",
       "      <td>win</td>\n",
       "    </tr>\n",
       "    <tr>\n",
       "      <th>17</th>\n",
       "      <td>59</td>\n",
       "      <td>Brighton</td>\n",
       "      <td>Kevin Friend</td>\n",
       "      <td>2</td>\n",
       "      <td>win</td>\n",
       "    </tr>\n",
       "    <tr>\n",
       "      <th>18</th>\n",
       "      <td>59</td>\n",
       "      <td>Norwich</td>\n",
       "      <td>Andy Madley</td>\n",
       "      <td>3</td>\n",
       "      <td>win</td>\n",
       "    </tr>\n",
       "    <tr>\n",
       "      <th>19</th>\n",
       "      <td>67</td>\n",
       "      <td>Swansea</td>\n",
       "      <td>Lee Stephen Mason</td>\n",
       "      <td>3</td>\n",
       "      <td>win</td>\n",
       "    </tr>\n",
       "    <tr>\n",
       "      <th>20</th>\n",
       "      <td>60</td>\n",
       "      <td>Red Star Belgrade</td>\n",
       "      <td>Luca Banti</td>\n",
       "      <td>0</td>\n",
       "      <td>draw</td>\n",
       "    </tr>\n",
       "    <tr>\n",
       "      <th>21</th>\n",
       "      <td>44</td>\n",
       "      <td>Tottenham</td>\n",
       "      <td>Mike Dean</td>\n",
       "      <td>2</td>\n",
       "      <td>win</td>\n",
       "    </tr>\n",
       "    <tr>\n",
       "      <th>22</th>\n",
       "      <td>65</td>\n",
       "      <td>Huddersfield</td>\n",
       "      <td>Graham Scott</td>\n",
       "      <td>5</td>\n",
       "      <td>win</td>\n",
       "    </tr>\n",
       "  </tbody>\n",
       "</table>\n",
       "</div>"
      ],
      "text/plain": [
       "   possession           opponent                   referee total_goals outcome\n",
       "0          59     Crystal Palace            Andre Marriner           2     win\n",
       "1          64            Burnley                  Jon Moss           3     win\n",
       "2          63            Watford            Andre Marriner           3    lose\n",
       "3          49               Hull          Mark Clattenburg           2     win\n",
       "4          42      Bayern Munich   Anastasios Sidiropoulos           6    lose\n",
       "5          66       Lincoln City            Anthony Taylor           5     win\n",
       "6          46           Man City            Andre Marriner           4    draw\n",
       "7          60           West Ham           Martin Atkinson           3     win\n",
       "8          68          Leicester                Mike Jones           1     win\n",
       "9          50            Man Utd            Andre Marriner           2     win\n",
       "10         58         Sunderland                Roger East           2     win\n",
       "11         52            Everton            Michael Oliver           4     win\n",
       "12         64          Leicester                 Mike Dean           7     win\n",
       "13         55        Bournemouth            Anthony Taylor           3     win\n",
       "14         66            Cologne  Xavier Estrada Fernandez           4     win\n",
       "15         61          Doncaster              Scott Duncan           1     win\n",
       "16         58          West Brom              Bobby Madley           2     win\n",
       "17         59           Brighton              Kevin Friend           2     win\n",
       "18         59            Norwich               Andy Madley           3     win\n",
       "19         67            Swansea         Lee Stephen Mason           3     win\n",
       "20         60  Red Star Belgrade                Luca Banti           0    draw\n",
       "21         44          Tottenham                 Mike Dean           2     win\n",
       "22         65       Huddersfield              Graham Scott           5     win"
      ]
     },
     "execution_count": 5,
     "metadata": {},
     "output_type": "execute_result"
    }
   ],
   "source": [
    "processed_data"
   ]
  },
  {
   "cell_type": "markdown",
   "id": "583a2f00",
   "metadata": {},
   "source": [
    "### Model training"
   ]
  },
  {
   "cell_type": "code",
   "execution_count": 6,
   "id": "0dc6c2eb",
   "metadata": {
    "ExecuteTime": {
     "end_time": "2023-12-02T16:55:05.310176Z",
     "start_time": "2023-12-02T16:55:05.128178Z"
    }
   },
   "outputs": [],
   "source": [
    "trained_model = train_model(processed_data)"
   ]
  },
  {
   "cell_type": "code",
   "execution_count": 7,
   "id": "dcc8cbb8",
   "metadata": {
    "ExecuteTime": {
     "end_time": "2023-12-02T16:55:05.389173Z",
     "start_time": "2023-12-02T16:55:05.313176Z"
    }
   },
   "outputs": [],
   "source": [
    "# Save the trained model\n",
    "joblib.dump(trained_model, \"trained_model.joblib\", protocol=4)\n",
    "pickle.dump(trained_model, open('trained_model.sav', 'wb'), protocol=4)"
   ]
  },
  {
   "cell_type": "markdown",
   "id": "9a3f8a2d",
   "metadata": {},
   "source": [
    "### Model test"
   ]
  },
  {
   "cell_type": "code",
   "execution_count": 6,
   "id": "a6802980",
   "metadata": {
    "ExecuteTime": {
     "end_time": "2023-12-02T16:55:44.741615Z",
     "start_time": "2023-12-02T16:55:44.729611Z"
    }
   },
   "outputs": [],
   "source": [
    "X = processed_data.drop(\"outcome\", axis=1)\n",
    "y = processed_data[\"outcome\"]\n",
    "X_train, X_test, y_train, y_test = train_test_split(X, y, test_size=0.33, random_state=42)"
   ]
  },
  {
   "cell_type": "code",
   "execution_count": 9,
   "id": "08042082",
   "metadata": {
    "ExecuteTime": {
     "end_time": "2023-12-02T16:55:05.436174Z",
     "start_time": "2023-12-02T16:55:05.407176Z"
    }
   },
   "outputs": [
    {
     "data": {
      "text/plain": [
       "array(['win', 'win', 'win', 'win', 'win', 'win', 'win', 'win'],\n",
       "      dtype=object)"
      ]
     },
     "execution_count": 9,
     "metadata": {},
     "output_type": "execute_result"
    }
   ],
   "source": [
    "trained_model.predict(X_test)"
   ]
  },
  {
   "cell_type": "code",
   "execution_count": 10,
   "id": "76111bb5",
   "metadata": {
    "ExecuteTime": {
     "end_time": "2023-12-02T16:55:05.451175Z",
     "start_time": "2023-12-02T16:55:05.439179Z"
    },
    "scrolled": true
   },
   "outputs": [
    {
     "data": {
      "text/plain": [
       "15    win\n",
       "9     win\n",
       "0     win\n",
       "8     win\n",
       "17    win\n",
       "12    win\n",
       "1     win\n",
       "13    win\n",
       "Name: outcome, dtype: object"
      ]
     },
     "execution_count": 10,
     "metadata": {},
     "output_type": "execute_result"
    }
   ],
   "source": [
    "y_test"
   ]
  },
  {
   "cell_type": "code",
   "execution_count": 9,
   "id": "32a8618f",
   "metadata": {
    "ExecuteTime": {
     "end_time": "2023-12-02T16:56:15.192111Z",
     "start_time": "2023-12-02T16:56:15.184065Z"
    }
   },
   "outputs": [],
   "source": [
    "def predict_outcome(opponent, referee, possession, goals):\n",
    "    # Load the trained model\n",
    "    trained_model = joblib.load(\"trained_model.joblib\")\n",
    "    #trained_model = pickle.load(open('trained_model.sav', 'rb'))\n",
    "    \n",
    "    # Create a DataFrame with user input\n",
    "    user_input = pd.DataFrame({\n",
    "        \"opponent\": [opponent],\n",
    "        \"referee\": [referee],\n",
    "        \"possession\": [int(possession)],\n",
    "        'total_goals': [int(goals)]\n",
    "    })\n",
    "\n",
    "    # Make a prediction\n",
    "    prediction = trained_model.predict(user_input)\n",
    "\n",
    "    return prediction[0]"
   ]
  },
  {
   "cell_type": "code",
   "execution_count": 10,
   "id": "236f1d9c",
   "metadata": {
    "ExecuteTime": {
     "end_time": "2023-12-02T16:56:16.376941Z",
     "start_time": "2023-12-02T16:56:16.313358Z"
    },
    "scrolled": true
   },
   "outputs": [
    {
     "data": {
      "text/plain": [
       "'win'"
      ]
     },
     "execution_count": 10,
     "metadata": {},
     "output_type": "execute_result"
    }
   ],
   "source": [
    "predict_outcome('Burnley','Mike Dean',53,2)"
   ]
  },
  {
   "cell_type": "code",
   "execution_count": 12,
   "id": "f59924ce",
   "metadata": {
    "ExecuteTime": {
     "end_time": "2023-12-02T16:58:56.768147Z",
     "start_time": "2023-12-02T16:58:51.589076Z"
    }
   },
   "outputs": [
    {
     "name": "stdout",
     "output_type": "stream",
     "text": [
      "Name: joblib\n",
      "Version: 1.3.2\n",
      "Summary: Lightweight pipelining with Python functions\n",
      "Home-page: \n",
      "Author: \n",
      "Author-email: Gael Varoquaux <gael.varoquaux@normalesup.org>\n",
      "License: BSD 3-Clause\n",
      "Location: c:\\users\\rened\\anaconda3\\lib\\site-packages\n",
      "Requires: \n",
      "Required-by: mglearn, nltk, scikit-learn\n",
      "Note: you may need to restart the kernel to use updated packages.\n"
     ]
    }
   ],
   "source": [
    "pip show joblib"
   ]
  },
  {
   "cell_type": "code",
   "execution_count": 13,
   "id": "9044605c",
   "metadata": {
    "ExecuteTime": {
     "end_time": "2023-12-02T16:59:25.841623Z",
     "start_time": "2023-12-02T16:59:25.824639Z"
    }
   },
   "outputs": [
    {
     "name": "stdout",
     "output_type": "stream",
     "text": [
      "4.0\n"
     ]
    }
   ],
   "source": [
    "import pickle \n",
    "print(pickle.format_version)"
   ]
  },
  {
   "cell_type": "code",
   "execution_count": 14,
   "id": "ae975df6",
   "metadata": {
    "ExecuteTime": {
     "end_time": "2023-12-02T17:02:11.395180Z",
     "start_time": "2023-12-02T17:02:11.379022Z"
    }
   },
   "outputs": [
    {
     "data": {
      "text/plain": [
       "sys.version_info(major=3, minor=9, micro=13, releaselevel='final', serial=0)"
      ]
     },
     "execution_count": 14,
     "metadata": {},
     "output_type": "execute_result"
    }
   ],
   "source": [
    "import sys\n",
    "sys.version_info"
   ]
  }
 ],
 "metadata": {
  "kernelspec": {
   "display_name": "Python 3",
   "language": "python",
   "name": "python3"
  },
  "language_info": {
   "codemirror_mode": {
    "name": "ipython",
    "version": 3
   },
   "file_extension": ".py",
   "mimetype": "text/x-python",
   "name": "python",
   "nbconvert_exporter": "python",
   "pygments_lexer": "ipython3",
   "version": "3.9.13"
  },
  "toc": {
   "base_numbering": 1,
   "nav_menu": {},
   "number_sections": true,
   "sideBar": true,
   "skip_h1_title": true,
   "title_cell": "Table of Contents",
   "title_sidebar": "Contents",
   "toc_cell": false,
   "toc_position": {
    "height": "calc(100% - 180px)",
    "left": "10px",
    "top": "150px",
    "width": "373.188px"
   },
   "toc_section_display": true,
   "toc_window_display": true
  },
  "varInspector": {
   "cols": {
    "lenName": 16,
    "lenType": 16,
    "lenVar": 40
   },
   "kernels_config": {
    "python": {
     "delete_cmd_postfix": "",
     "delete_cmd_prefix": "del ",
     "library": "var_list.py",
     "varRefreshCmd": "print(var_dic_list())"
    },
    "r": {
     "delete_cmd_postfix": ") ",
     "delete_cmd_prefix": "rm(",
     "library": "var_list.r",
     "varRefreshCmd": "cat(var_dic_list()) "
    }
   },
   "types_to_exclude": [
    "module",
    "function",
    "builtin_function_or_method",
    "instance",
    "_Feature"
   ],
   "window_display": false
  }
 },
 "nbformat": 4,
 "nbformat_minor": 5
}
