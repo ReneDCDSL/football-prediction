{
 "cells": [
  {
   "cell_type": "markdown",
   "id": "1c0f51c0",
   "metadata": {},
   "source": [
    "# Imports"
   ]
  },
  {
   "cell_type": "code",
   "execution_count": 75,
   "id": "ddd0457c",
   "metadata": {
    "ExecuteTime": {
     "end_time": "2023-12-01T21:43:17.818153Z",
     "start_time": "2023-12-01T21:43:17.768155Z"
    }
   },
   "outputs": [],
   "source": [
    "import pandas as pd\n",
    "import requests\n",
    "import joblib\n",
    "\n",
    "# Model\n",
    "from sklearn.model_selection import train_test_split\n",
    "from sklearn.ensemble import RandomForestClassifier\n",
    "from sklearn.preprocessing import OneHotEncoder\n",
    "from sklearn.compose import ColumnTransformer\n",
    "from sklearn.pipeline import Pipeline"
   ]
  },
  {
   "cell_type": "markdown",
   "id": "ccc184b0",
   "metadata": {},
   "source": [
    "# Functions"
   ]
  },
  {
   "cell_type": "code",
   "execution_count": 71,
   "id": "19a254fb",
   "metadata": {
    "ExecuteTime": {
     "end_time": "2023-12-01T21:42:41.827871Z",
     "start_time": "2023-12-01T21:42:41.808872Z"
    }
   },
   "outputs": [],
   "source": [
    "def get_football_data():\n",
    "    url = \"https://soccer-football-info.p.rapidapi.com/matches/by/basic/\"\n",
    "    querystring = {\"s\": \"423f669ed2e3e1bf\", \"l\": \"en_US\"}\n",
    "    headers = {\n",
    "        \"X-RapidAPI-Key\": \"45ddb35fddmsh83c2b6071c04098p189a48jsn7f1c9dd36e16\",\n",
    "        \"X-RapidAPI-Host\": \"soccer-football-info.p.rapidapi.com\",\n",
    "    }\n",
    "    response = requests.get(url, headers=headers, params=querystring)\n",
    "    return response.json()\n",
    "\n",
    "def preprocess_data(data):\n",
    "    features = [\"possession\", \"opponent\", \"referee\", \"total_goals\", \"outcome\"]\n",
    "    processed_data = pd.DataFrame(columns=features)\n",
    "    for match in data[\"result\"]:\n",
    "        match_info_teamA = match.get(\"teamA\", {}).get(\"stats\", {})\n",
    "        match_info_teamB = match.get(\"teamB\", {}).get(\"stats\", {})\n",
    "\n",
    "        \n",
    "        # Skips match with missing data\n",
    "        if match_info_teamA.get('possession')==None or (match['referee']==None):\n",
    "            continue\n",
    "            \n",
    "        possession_teamA = int(match_info_teamA.get(\"possession\", 0))\n",
    "        possession_teamB = int(match_info_teamB.get(\"possession\", 0))\n",
    "\n",
    "        possession_teamA = int(possession_teamA)\n",
    "        possession_teamB = int(possession_teamB)\n",
    "\n",
    "        total_goals = int(match[\"teamA\"][\"score\"][\"f\"]) + int(match[\"teamB\"][\"score\"][\"f\"])\n",
    "\n",
    "        outcome = \"win\" if match[\"teamA\"][\"score\"][\"f\"] > match[\"teamB\"][\"score\"][\"f\"] else (\n",
    "            \"draw\" if match[\"teamA\"][\"score\"][\"f\"] == match[\"teamB\"][\"score\"][\"f\"] else \"lose\"\n",
    "        )\n",
    "\n",
    "        opponent_name = match[\"teamB\"][\"name\"]\n",
    "        referee_name = match[\"referee\"][\"name\"]\n",
    "\n",
    "        processed_data = processed_data.append({\n",
    "            \"possession\": possession_teamA,\n",
    "            \"opponent\": opponent_name,\n",
    "            \"referee\": referee_name,\n",
    "            \"total_goals\": total_goals,\n",
    "            \"outcome\": outcome\n",
    "        }, ignore_index=True)\n",
    "\n",
    "    return processed_data\n",
    "\n",
    "def train_model(processed_data):\n",
    "    X = processed_data.drop(\"outcome\", axis=1)\n",
    "    y = processed_data[\"outcome\"]\n",
    "\n",
    "    # Define the categorical features and numerical features\n",
    "    categorical_features = [\"opponent\", \"referee\"]\n",
    "    numerical_features = [\"possession\", \"total_goals\"]\n",
    "\n",
    "    # Create transformers for one-hot encoding of categorical features\n",
    "    categorical_transformer = OneHotEncoder(handle_unknown=\"ignore\")\n",
    "\n",
    "    # Create a preprocessor that applies transformers to different feature sets\n",
    "    preprocessor = ColumnTransformer(\n",
    "        transformers=[\n",
    "            (\"cat\", categorical_transformer, categorical_features),\n",
    "        ],\n",
    "        remainder=\"passthrough\"\n",
    "    )\n",
    "\n",
    "    # Create a pipeline that applies the preprocessor and then fits the model\n",
    "    model = Pipeline([\n",
    "        (\"preprocessor\", preprocessor),\n",
    "        (\"classifier\", RandomForestClassifier())\n",
    "    ])\n",
    "\n",
    "    # Fit the model\n",
    "    model.fit(X, y)\n",
    "\n",
    "    return model"
   ]
  },
  {
   "cell_type": "markdown",
   "id": "c99a18fc",
   "metadata": {},
   "source": [
    "### Data collection"
   ]
  },
  {
   "cell_type": "code",
   "execution_count": 35,
   "id": "c8d21b0a",
   "metadata": {
    "ExecuteTime": {
     "end_time": "2023-12-01T21:21:39.580970Z",
     "start_time": "2023-12-01T21:21:39.181959Z"
    }
   },
   "outputs": [],
   "source": [
    "data = get_football_data()"
   ]
  },
  {
   "cell_type": "markdown",
   "id": "4bf1facf",
   "metadata": {},
   "source": [
    "### Data preprocessing"
   ]
  },
  {
   "cell_type": "code",
   "execution_count": 66,
   "id": "4e291bd5",
   "metadata": {
    "ExecuteTime": {
     "end_time": "2023-12-01T21:39:20.367275Z",
     "start_time": "2023-12-01T21:39:20.297224Z"
    },
    "scrolled": true
   },
   "outputs": [],
   "source": [
    "import warnings\n",
    "warnings.simplefilter(action='ignore', category=FutureWarning)\n",
    "\n",
    "processed_data = preprocess_data(data)"
   ]
  },
  {
   "cell_type": "code",
   "execution_count": 95,
   "id": "c0bc6ac0",
   "metadata": {
    "ExecuteTime": {
     "end_time": "2023-12-01T21:47:39.591039Z",
     "start_time": "2023-12-01T21:47:39.576021Z"
    }
   },
   "outputs": [
    {
     "data": {
      "text/html": [
       "<div>\n",
       "<style scoped>\n",
       "    .dataframe tbody tr th:only-of-type {\n",
       "        vertical-align: middle;\n",
       "    }\n",
       "\n",
       "    .dataframe tbody tr th {\n",
       "        vertical-align: top;\n",
       "    }\n",
       "\n",
       "    .dataframe thead th {\n",
       "        text-align: right;\n",
       "    }\n",
       "</style>\n",
       "<table border=\"1\" class=\"dataframe\">\n",
       "  <thead>\n",
       "    <tr style=\"text-align: right;\">\n",
       "      <th></th>\n",
       "      <th>possession</th>\n",
       "      <th>opponent</th>\n",
       "      <th>referee</th>\n",
       "      <th>total_goals</th>\n",
       "      <th>outcome</th>\n",
       "    </tr>\n",
       "  </thead>\n",
       "  <tbody>\n",
       "    <tr>\n",
       "      <th>0</th>\n",
       "      <td>59</td>\n",
       "      <td>Crystal Palace</td>\n",
       "      <td>Andre Marriner</td>\n",
       "      <td>2</td>\n",
       "      <td>win</td>\n",
       "    </tr>\n",
       "    <tr>\n",
       "      <th>1</th>\n",
       "      <td>64</td>\n",
       "      <td>Burnley</td>\n",
       "      <td>Jon Moss</td>\n",
       "      <td>3</td>\n",
       "      <td>win</td>\n",
       "    </tr>\n",
       "    <tr>\n",
       "      <th>2</th>\n",
       "      <td>63</td>\n",
       "      <td>Watford</td>\n",
       "      <td>Andre Marriner</td>\n",
       "      <td>3</td>\n",
       "      <td>lose</td>\n",
       "    </tr>\n",
       "    <tr>\n",
       "      <th>3</th>\n",
       "      <td>49</td>\n",
       "      <td>Hull</td>\n",
       "      <td>Mark Clattenburg</td>\n",
       "      <td>2</td>\n",
       "      <td>win</td>\n",
       "    </tr>\n",
       "    <tr>\n",
       "      <th>4</th>\n",
       "      <td>42</td>\n",
       "      <td>Bayern Munich</td>\n",
       "      <td>Anastasios Sidiropoulos</td>\n",
       "      <td>6</td>\n",
       "      <td>lose</td>\n",
       "    </tr>\n",
       "  </tbody>\n",
       "</table>\n",
       "</div>"
      ],
      "text/plain": [
       "  possession        opponent                  referee total_goals outcome\n",
       "0         59  Crystal Palace           Andre Marriner           2     win\n",
       "1         64         Burnley                 Jon Moss           3     win\n",
       "2         63         Watford           Andre Marriner           3    lose\n",
       "3         49            Hull         Mark Clattenburg           2     win\n",
       "4         42   Bayern Munich  Anastasios Sidiropoulos           6    lose"
      ]
     },
     "execution_count": 95,
     "metadata": {},
     "output_type": "execute_result"
    }
   ],
   "source": [
    "processed_data.head()"
   ]
  },
  {
   "cell_type": "code",
   "execution_count": 97,
   "id": "c0294052",
   "metadata": {
    "ExecuteTime": {
     "end_time": "2023-12-01T21:49:34.506196Z",
     "start_time": "2023-12-01T21:49:34.484236Z"
    }
   },
   "outputs": [
    {
     "data": {
      "text/plain": [
       "0      win\n",
       "1      win\n",
       "2     lose\n",
       "3      win\n",
       "4     lose\n",
       "5      win\n",
       "6     draw\n",
       "7      win\n",
       "8      win\n",
       "9      win\n",
       "10     win\n",
       "11     win\n",
       "12     win\n",
       "13     win\n",
       "14     win\n",
       "15     win\n",
       "16     win\n",
       "17     win\n",
       "18     win\n",
       "19     win\n",
       "20    draw\n",
       "21     win\n",
       "22     win\n",
       "Name: outcome, dtype: object"
      ]
     },
     "execution_count": 97,
     "metadata": {},
     "output_type": "execute_result"
    }
   ],
   "source": [
    "y"
   ]
  },
  {
   "cell_type": "markdown",
   "id": "a4b29efc",
   "metadata": {},
   "source": [
    "### Model training"
   ]
  },
  {
   "cell_type": "code",
   "execution_count": 76,
   "id": "2e73636f",
   "metadata": {
    "ExecuteTime": {
     "end_time": "2023-12-01T21:43:25.610182Z",
     "start_time": "2023-12-01T21:43:25.470189Z"
    }
   },
   "outputs": [],
   "source": [
    "trained_model = train_model(processed_data)"
   ]
  },
  {
   "cell_type": "code",
   "execution_count": 96,
   "id": "638cf1b4",
   "metadata": {
    "ExecuteTime": {
     "end_time": "2023-12-01T21:48:55.013922Z",
     "start_time": "2023-12-01T21:48:54.958897Z"
    }
   },
   "outputs": [
    {
     "data": {
      "text/plain": [
       "['trained_model.joblib']"
      ]
     },
     "execution_count": 96,
     "metadata": {},
     "output_type": "execute_result"
    }
   ],
   "source": [
    "# Save the trained model\n",
    "joblib.dump(trained_model, \"trained_model.joblib\")"
   ]
  },
  {
   "cell_type": "markdown",
   "id": "d726ac18",
   "metadata": {},
   "source": [
    "### Model test"
   ]
  },
  {
   "cell_type": "code",
   "execution_count": 90,
   "id": "dd69c886",
   "metadata": {
    "ExecuteTime": {
     "end_time": "2023-12-01T21:46:08.778528Z",
     "start_time": "2023-12-01T21:46:08.733527Z"
    }
   },
   "outputs": [
    {
     "data": {
      "text/plain": [
       "array(['win', 'win', 'win', 'win', 'win'], dtype=object)"
      ]
     },
     "execution_count": 90,
     "metadata": {},
     "output_type": "execute_result"
    }
   ],
   "source": [
    "trained_model.predict(X_test)"
   ]
  },
  {
   "cell_type": "code",
   "execution_count": 93,
   "id": "74f9bbda",
   "metadata": {
    "ExecuteTime": {
     "end_time": "2023-12-01T21:47:07.428804Z",
     "start_time": "2023-12-01T21:47:07.406811Z"
    }
   },
   "outputs": [
    {
     "data": {
      "text/plain": [
       "15    win\n",
       "9     win\n",
       "0     win\n",
       "8     win\n",
       "17    win\n",
       "Name: outcome, dtype: object"
      ]
     },
     "execution_count": 93,
     "metadata": {},
     "output_type": "execute_result"
    }
   ],
   "source": [
    "y_test"
   ]
  }
 ],
 "metadata": {
  "kernelspec": {
   "display_name": "Python 3",
   "language": "python",
   "name": "python3"
  },
  "language_info": {
   "codemirror_mode": {
    "name": "ipython",
    "version": 3
   },
   "file_extension": ".py",
   "mimetype": "text/x-python",
   "name": "python",
   "nbconvert_exporter": "python",
   "pygments_lexer": "ipython3",
   "version": "3.9.13"
  },
  "toc": {
   "base_numbering": 1,
   "nav_menu": {},
   "number_sections": true,
   "sideBar": true,
   "skip_h1_title": true,
   "title_cell": "Table of Contents",
   "title_sidebar": "Contents",
   "toc_cell": false,
   "toc_position": {
    "height": "calc(100% - 180px)",
    "left": "10px",
    "top": "150px",
    "width": "373.188px"
   },
   "toc_section_display": true,
   "toc_window_display": true
  },
  "varInspector": {
   "cols": {
    "lenName": 16,
    "lenType": 16,
    "lenVar": 40
   },
   "kernels_config": {
    "python": {
     "delete_cmd_postfix": "",
     "delete_cmd_prefix": "del ",
     "library": "var_list.py",
     "varRefreshCmd": "print(var_dic_list())"
    },
    "r": {
     "delete_cmd_postfix": ") ",
     "delete_cmd_prefix": "rm(",
     "library": "var_list.r",
     "varRefreshCmd": "cat(var_dic_list()) "
    }
   },
   "types_to_exclude": [
    "module",
    "function",
    "builtin_function_or_method",
    "instance",
    "_Feature"
   ],
   "window_display": false
  }
 },
 "nbformat": 4,
 "nbformat_minor": 5
}
